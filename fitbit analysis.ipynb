{
 "cells": [
  {
   "cell_type": "code",
   "execution_count": 278,
   "id": "34a9f430",
   "metadata": {},
   "outputs": [],
   "source": [
    "#Importing necessary libraries\n",
    "\n",
    "import pandas as pd\n",
    "import matplotlib.pyplot as plt\n",
    "import seaborn as sns"
   ]
  },
  {
   "cell_type": "code",
   "execution_count": 279,
   "id": "c9f136e8",
   "metadata": {},
   "outputs": [],
   "source": [
    "daily_activity_0 = pd.read_csv(r\"C:\\Users\\yasar\\OneDrive\\Desktop\\Projects\\case study2\\data\\mturkfitbit_export_3.12.16-4.11.16\\Fitabase Data 3.12.16-4.11.16\\dailyActivity_merged.csv\")\n",
    "daily_activity_1 = pd.read_csv(r\"C:\\Users\\yasar\\OneDrive\\Desktop\\Projects\\case study2\\data\\mturkfitbit_export_4.12.16-5.12.16\\Fitabase Data 4.12.16-5.12.16\\dailyActivity_merged.csv\")"
   ]
  },
  {
   "cell_type": "code",
   "execution_count": 280,
   "id": "43834d0d",
   "metadata": {},
   "outputs": [],
   "source": [
    "merged_daily_activity = pd.concat([daily_activity_0, daily_activity_1], axis = 0) "
   ]
  },
  {
   "cell_type": "code",
   "execution_count": 281,
   "id": "7767fa4a",
   "metadata": {
    "scrolled": true
   },
   "outputs": [
    {
     "name": "stdout",
     "output_type": "stream",
     "text": [
      "<class 'pandas.core.frame.DataFrame'>\n",
      "Int64Index: 1397 entries, 0 to 939\n",
      "Data columns (total 15 columns):\n",
      " #   Column                    Non-Null Count  Dtype  \n",
      "---  ------                    --------------  -----  \n",
      " 0   Id                        1397 non-null   int64  \n",
      " 1   ActivityDate              1397 non-null   object \n",
      " 2   TotalSteps                1397 non-null   int64  \n",
      " 3   TotalDistance             1397 non-null   float64\n",
      " 4   TrackerDistance           1397 non-null   float64\n",
      " 5   LoggedActivitiesDistance  1397 non-null   float64\n",
      " 6   VeryActiveDistance        1397 non-null   float64\n",
      " 7   ModeratelyActiveDistance  1397 non-null   float64\n",
      " 8   LightActiveDistance       1397 non-null   float64\n",
      " 9   SedentaryActiveDistance   1397 non-null   float64\n",
      " 10  VeryActiveMinutes         1397 non-null   int64  \n",
      " 11  FairlyActiveMinutes       1397 non-null   int64  \n",
      " 12  LightlyActiveMinutes      1397 non-null   int64  \n",
      " 13  SedentaryMinutes          1397 non-null   int64  \n",
      " 14  Calories                  1397 non-null   int64  \n",
      "dtypes: float64(7), int64(7), object(1)\n",
      "memory usage: 174.6+ KB\n"
     ]
    }
   ],
   "source": [
    "merged_daily_activity.info()"
   ]
  },
  {
   "cell_type": "code",
   "execution_count": 282,
   "id": "94dc8d41",
   "metadata": {},
   "outputs": [],
   "source": [
    "#Converting ActivityDate to Date format\n",
    "merged_daily_activity['ActivityDate'] = pd.to_datetime(merged_daily_activity['ActivityDate'])\n",
    "\n",
    "#Converting Id to String format\n",
    "merged_daily_activity['Id'] = merged_daily_activity['Id'].astype(str)"
   ]
  },
  {
   "cell_type": "code",
   "execution_count": 284,
   "id": "fb07201d",
   "metadata": {},
   "outputs": [],
   "source": [
    "merged_daily_activity['day'] = merged_daily_activity['ActivityDate'].dt.day_name()\n",
    "merged_daily_activity['ActiveMinutes'] = merged_daily_activity['VeryActiveMinutes']+merged_daily_activity['FairlyActiveMinutes']+merged_daily_activity['LightlyActiveMinutes']"
   ]
  },
  {
   "cell_type": "code",
   "execution_count": 285,
   "id": "392544fd",
   "metadata": {},
   "outputs": [
    {
     "data": {
      "text/plain": [
       "Index(['Id', 'ActivityDate', 'TotalSteps', 'TotalDistance', 'TrackerDistance',\n",
       "       'LoggedActivitiesDistance', 'VeryActiveDistance',\n",
       "       'ModeratelyActiveDistance', 'LightActiveDistance',\n",
       "       'SedentaryActiveDistance', 'VeryActiveMinutes', 'FairlyActiveMinutes',\n",
       "       'LightlyActiveMinutes', 'SedentaryMinutes', 'Calories', 'day',\n",
       "       'ActiveMinutes'],\n",
       "      dtype='object')"
      ]
     },
     "execution_count": 285,
     "metadata": {},
     "output_type": "execute_result"
    }
   ],
   "source": [
    "merged_daily_activity.columns"
   ]
  },
  {
   "cell_type": "code",
   "execution_count": 287,
   "id": "ddee3619",
   "metadata": {},
   "outputs": [],
   "source": [
    "total_daily_activity = merged_daily_activity[['Id', 'ActivityDate', 'day', 'TotalSteps', 'TotalDistance', 'SedentaryMinutes', 'Calories', \n",
    "                                               'ActiveMinutes']]"
   ]
  },
  {
   "cell_type": "code",
   "execution_count": 288,
   "id": "7746bf0c",
   "metadata": {
    "scrolled": true
   },
   "outputs": [
    {
     "data": {
      "text/html": [
       "<div>\n",
       "<style scoped>\n",
       "    .dataframe tbody tr th:only-of-type {\n",
       "        vertical-align: middle;\n",
       "    }\n",
       "\n",
       "    .dataframe tbody tr th {\n",
       "        vertical-align: top;\n",
       "    }\n",
       "\n",
       "    .dataframe thead th {\n",
       "        text-align: right;\n",
       "    }\n",
       "</style>\n",
       "<table border=\"1\" class=\"dataframe\">\n",
       "  <thead>\n",
       "    <tr style=\"text-align: right;\">\n",
       "      <th></th>\n",
       "      <th>Id</th>\n",
       "      <th>ActivityDate</th>\n",
       "      <th>day</th>\n",
       "      <th>TotalSteps</th>\n",
       "      <th>TotalDistance</th>\n",
       "      <th>SedentaryMinutes</th>\n",
       "      <th>Calories</th>\n",
       "      <th>ActiveMinutes</th>\n",
       "    </tr>\n",
       "  </thead>\n",
       "  <tbody>\n",
       "    <tr>\n",
       "      <th>0</th>\n",
       "      <td>1503960366</td>\n",
       "      <td>2016-03-25</td>\n",
       "      <td>Friday</td>\n",
       "      <td>11004</td>\n",
       "      <td>7.11</td>\n",
       "      <td>804</td>\n",
       "      <td>1819</td>\n",
       "      <td>250</td>\n",
       "    </tr>\n",
       "    <tr>\n",
       "      <th>1</th>\n",
       "      <td>1503960366</td>\n",
       "      <td>2016-03-26</td>\n",
       "      <td>Saturday</td>\n",
       "      <td>17609</td>\n",
       "      <td>11.55</td>\n",
       "      <td>588</td>\n",
       "      <td>2154</td>\n",
       "      <td>380</td>\n",
       "    </tr>\n",
       "    <tr>\n",
       "      <th>2</th>\n",
       "      <td>1503960366</td>\n",
       "      <td>2016-03-27</td>\n",
       "      <td>Sunday</td>\n",
       "      <td>12736</td>\n",
       "      <td>8.53</td>\n",
       "      <td>605</td>\n",
       "      <td>1944</td>\n",
       "      <td>329</td>\n",
       "    </tr>\n",
       "    <tr>\n",
       "      <th>3</th>\n",
       "      <td>1503960366</td>\n",
       "      <td>2016-03-28</td>\n",
       "      <td>Monday</td>\n",
       "      <td>13231</td>\n",
       "      <td>8.93</td>\n",
       "      <td>1080</td>\n",
       "      <td>1932</td>\n",
       "      <td>283</td>\n",
       "    </tr>\n",
       "    <tr>\n",
       "      <th>4</th>\n",
       "      <td>1503960366</td>\n",
       "      <td>2016-03-29</td>\n",
       "      <td>Tuesday</td>\n",
       "      <td>12041</td>\n",
       "      <td>7.85</td>\n",
       "      <td>763</td>\n",
       "      <td>1886</td>\n",
       "      <td>299</td>\n",
       "    </tr>\n",
       "  </tbody>\n",
       "</table>\n",
       "</div>"
      ],
      "text/plain": [
       "           Id ActivityDate       day  TotalSteps  TotalDistance  \\\n",
       "0  1503960366   2016-03-25    Friday       11004           7.11   \n",
       "1  1503960366   2016-03-26  Saturday       17609          11.55   \n",
       "2  1503960366   2016-03-27    Sunday       12736           8.53   \n",
       "3  1503960366   2016-03-28    Monday       13231           8.93   \n",
       "4  1503960366   2016-03-29   Tuesday       12041           7.85   \n",
       "\n",
       "   SedentaryMinutes  Calories  ActiveMinutes  \n",
       "0               804      1819            250  \n",
       "1               588      2154            380  \n",
       "2               605      1944            329  \n",
       "3              1080      1932            283  \n",
       "4               763      1886            299  "
      ]
     },
     "execution_count": 288,
     "metadata": {},
     "output_type": "execute_result"
    }
   ],
   "source": [
    "total_daily_activity.head()"
   ]
  },
  {
   "cell_type": "code",
   "execution_count": 289,
   "id": "d7693434",
   "metadata": {
    "scrolled": true
   },
   "outputs": [
    {
     "data": {
      "text/html": [
       "<div>\n",
       "<style scoped>\n",
       "    .dataframe tbody tr th:only-of-type {\n",
       "        vertical-align: middle;\n",
       "    }\n",
       "\n",
       "    .dataframe tbody tr th {\n",
       "        vertical-align: top;\n",
       "    }\n",
       "\n",
       "    .dataframe thead th {\n",
       "        text-align: right;\n",
       "    }\n",
       "</style>\n",
       "<table border=\"1\" class=\"dataframe\">\n",
       "  <thead>\n",
       "    <tr style=\"text-align: right;\">\n",
       "      <th></th>\n",
       "      <th>TotalSteps</th>\n",
       "      <th>TotalDistance</th>\n",
       "      <th>SedentaryMinutes</th>\n",
       "      <th>Calories</th>\n",
       "      <th>ActiveMinutes</th>\n",
       "    </tr>\n",
       "  </thead>\n",
       "  <tbody>\n",
       "    <tr>\n",
       "      <th>count</th>\n",
       "      <td>1397.000000</td>\n",
       "      <td>1397.000000</td>\n",
       "      <td>1397.000000</td>\n",
       "      <td>1397.000000</td>\n",
       "      <td>1397.000000</td>\n",
       "    </tr>\n",
       "    <tr>\n",
       "      <th>mean</th>\n",
       "      <td>7280.898354</td>\n",
       "      <td>5.219434</td>\n",
       "      <td>992.542591</td>\n",
       "      <td>2266.265569</td>\n",
       "      <td>218.455261</td>\n",
       "    </tr>\n",
       "    <tr>\n",
       "      <th>std</th>\n",
       "      <td>5214.336113</td>\n",
       "      <td>3.994206</td>\n",
       "      <td>313.297376</td>\n",
       "      <td>753.005527</td>\n",
       "      <td>128.748674</td>\n",
       "    </tr>\n",
       "    <tr>\n",
       "      <th>min</th>\n",
       "      <td>0.000000</td>\n",
       "      <td>0.000000</td>\n",
       "      <td>0.000000</td>\n",
       "      <td>0.000000</td>\n",
       "      <td>0.000000</td>\n",
       "    </tr>\n",
       "    <tr>\n",
       "      <th>25%</th>\n",
       "      <td>3146.000000</td>\n",
       "      <td>2.170000</td>\n",
       "      <td>729.000000</td>\n",
       "      <td>1799.000000</td>\n",
       "      <td>125.000000</td>\n",
       "    </tr>\n",
       "    <tr>\n",
       "      <th>50%</th>\n",
       "      <td>6999.000000</td>\n",
       "      <td>4.950000</td>\n",
       "      <td>1057.000000</td>\n",
       "      <td>2114.000000</td>\n",
       "      <td>242.000000</td>\n",
       "    </tr>\n",
       "    <tr>\n",
       "      <th>75%</th>\n",
       "      <td>10544.000000</td>\n",
       "      <td>7.500000</td>\n",
       "      <td>1244.000000</td>\n",
       "      <td>2770.000000</td>\n",
       "      <td>313.000000</td>\n",
       "    </tr>\n",
       "    <tr>\n",
       "      <th>max</th>\n",
       "      <td>36019.000000</td>\n",
       "      <td>28.030001</td>\n",
       "      <td>1440.000000</td>\n",
       "      <td>4900.000000</td>\n",
       "      <td>720.000000</td>\n",
       "    </tr>\n",
       "  </tbody>\n",
       "</table>\n",
       "</div>"
      ],
      "text/plain": [
       "         TotalSteps  TotalDistance  SedentaryMinutes     Calories  \\\n",
       "count   1397.000000    1397.000000       1397.000000  1397.000000   \n",
       "mean    7280.898354       5.219434        992.542591  2266.265569   \n",
       "std     5214.336113       3.994206        313.297376   753.005527   \n",
       "min        0.000000       0.000000          0.000000     0.000000   \n",
       "25%     3146.000000       2.170000        729.000000  1799.000000   \n",
       "50%     6999.000000       4.950000       1057.000000  2114.000000   \n",
       "75%    10544.000000       7.500000       1244.000000  2770.000000   \n",
       "max    36019.000000      28.030001       1440.000000  4900.000000   \n",
       "\n",
       "       ActiveMinutes  \n",
       "count    1397.000000  \n",
       "mean      218.455261  \n",
       "std       128.748674  \n",
       "min         0.000000  \n",
       "25%       125.000000  \n",
       "50%       242.000000  \n",
       "75%       313.000000  \n",
       "max       720.000000  "
      ]
     },
     "execution_count": 289,
     "metadata": {},
     "output_type": "execute_result"
    }
   ],
   "source": [
    "total_daily_activity.describe()"
   ]
  },
  {
   "cell_type": "code",
   "execution_count": 394,
   "id": "7ab4e693",
   "metadata": {
    "scrolled": false
   },
   "outputs": [
    {
     "data": {
      "image/png": "[encoded data removed]",
      "text/plain": [
       "<Figure size 700x300 with 1 Axes>"
      ]
     },
     "metadata": {},
     "output_type": "display_data"
    }
   ],
   "source": [
    "plt.figure(figsize=(7, 3))\n",
    "plt.bar(total_daily_activity['day'], total_daily_activity['TotalSteps'], color = 'red')\n",
    "plt.title(\"Total steps according to Days\")\n",
    "plt.ylabel(\"Total steps\")\n",
    "plt.show()"
   ]
  },
  {
   "cell_type": "markdown",
   "id": "fab04a49",
   "metadata": {},
   "source": [
    "maximum steps are on sunday as people have holidays and least steps on monday and thursday as monday is first \n",
    "working day of week. The devices can set monday challenge for steps."
   ]
  },
  {
   "cell_type": "code",
   "execution_count": 395,
   "id": "28eece6f",
   "metadata": {
    "scrolled": false
   },
   "outputs": [
    {
     "data": {
      "image/png": "[encoded data removed]",
      "text/plain": [
       "<Figure size 700x300 with 1 Axes>"
      ]
     },
     "metadata": {},
     "output_type": "display_data"
    }
   ],
   "source": [
    "plt.figure(figsize=(7, 3))\n",
    "plt.scatter(total_daily_activity['TotalSteps'], total_daily_activity['Calories'], c= 'orange')\n",
    "plt.title(\"Realtion b/w Total steps and calories\")\n",
    "plt.xlabel(\"Total steps\")\n",
    "plt.ylabel(\"Calories burnt\")\n",
    "plt.show()"
   ]
  },
  {
   "cell_type": "code",
   "execution_count": 299,
   "id": "67116730",
   "metadata": {},
   "outputs": [],
   "source": [
    "day = ['Monday', 'Tuesday', 'Wednesday', 'Thursday', 'Friday', 'Saturday', 'Sunday']\n",
    "sedentary_minutes = []\n",
    "very_active_min = []\n",
    "fairly_active_min = []\n",
    "lightly_active_min = []"
   ]
  },
  {
   "cell_type": "code",
   "execution_count": 304,
   "id": "f30ad0a9",
   "metadata": {
    "scrolled": true
   },
   "outputs": [],
   "source": [
    "for i in day:\n",
    "    sedentary_minutes.append(merged_daily_activity[merged_daily_activity['day'] == i]['SedentaryMinutes'].sum())\n",
    "    very_active_min.append(merged_daily_activity[merged_daily_activity['day'] == i]['VeryActiveMinutes'].sum())\n",
    "    fairly_active_min.append(merged_daily_activity[merged_daily_activity['day'] == i]['FairlyActiveMinutes'].sum())\n",
    "    lightly_active_min.append(merged_daily_activity[merged_daily_activity['day'] == i]['LightlyActiveMinutes'].sum())"
   ]
  },
  {
   "cell_type": "code",
   "execution_count": 396,
   "id": "004629ca",
   "metadata": {
    "scrolled": true
   },
   "outputs": [
    {
     "data": {
      "image/png": "[encoded data removed]",
      "text/plain": [
       "<Figure size 1000x300 with 1 Axes>"
      ]
     },
     "metadata": {},
     "output_type": "display_data"
    }
   ],
   "source": [
    "fig = plt.subplots(figsize = (10, 3))\n",
    "plt.plot(day, sedentary_minutes, color = 'black')\n",
    "plt.title(\"Days vs Sedentary minutes\")\n",
    "plt.ylabel(\"Sedentary minutes\")\n",
    "plt.show()"
   ]
  },
  {
   "cell_type": "markdown",
   "id": "919afeb1",
   "metadata": {},
   "source": [
    "As we can see in the above plot it shows that tuesday has highest sedentary minutesand thursday has least sedentary minutes."
   ]
  },
  {
   "cell_type": "code",
   "execution_count": 340,
   "id": "a28f2958",
   "metadata": {},
   "outputs": [
    {
     "data": {
      "image/png": "[encoded data removed]",
      "text/plain": [
       "<Figure size 1000x300 with 1 Axes>"
      ]
     },
     "metadata": {},
     "output_type": "display_data"
    }
   ],
   "source": [
    "plt.figure(figsize=(10, 3))\n",
    "plt.plot(day, very_active_min, label = \"very_active_min\")\n",
    "plt.plot(day, fairly_active_min, label = \"fairly_active_min\")\n",
    "plt.plot(day, lightly_active_min, label = \"lightly_active_min\")\n",
    "plt.legend()\n",
    "plt.title(\"Comparing various active minutes\")\n",
    "plt.show()"
   ]
  },
  {
   "cell_type": "markdown",
   "id": "04c2ea19",
   "metadata": {},
   "source": [
    "# Sleep"
   ]
  },
  {
   "cell_type": "code",
   "execution_count": 341,
   "id": "5b072947",
   "metadata": {},
   "outputs": [],
   "source": [
    "sleep_data = pd.read_csv(r\"C:\\Users\\yasar\\OneDrive\\Desktop\\Projects\\case study2\\data\\mturkfitbit_export_4.12.16-5.12.16\\Fitabase Data 4.12.16-5.12.16\\sleepDay_merged.csv\")"
   ]
  },
  {
   "cell_type": "code",
   "execution_count": 342,
   "id": "261b32f4",
   "metadata": {},
   "outputs": [
    {
     "data": {
      "text/html": [
       "<div>\n",
       "<style scoped>\n",
       "    .dataframe tbody tr th:only-of-type {\n",
       "        vertical-align: middle;\n",
       "    }\n",
       "\n",
       "    .dataframe tbody tr th {\n",
       "        vertical-align: top;\n",
       "    }\n",
       "\n",
       "    .dataframe thead th {\n",
       "        text-align: right;\n",
       "    }\n",
       "</style>\n",
       "<table border=\"1\" class=\"dataframe\">\n",
       "  <thead>\n",
       "    <tr style=\"text-align: right;\">\n",
       "      <th></th>\n",
       "      <th>Id</th>\n",
       "      <th>SleepDay</th>\n",
       "      <th>TotalSleepRecords</th>\n",
       "      <th>TotalMinutesAsleep</th>\n",
       "      <th>TotalTimeInBed</th>\n",
       "    </tr>\n",
       "  </thead>\n",
       "  <tbody>\n",
       "    <tr>\n",
       "      <th>0</th>\n",
       "      <td>1503960366</td>\n",
       "      <td>4/12/2016 12:00:00 AM</td>\n",
       "      <td>1</td>\n",
       "      <td>327</td>\n",
       "      <td>346</td>\n",
       "    </tr>\n",
       "    <tr>\n",
       "      <th>1</th>\n",
       "      <td>1503960366</td>\n",
       "      <td>4/13/2016 12:00:00 AM</td>\n",
       "      <td>2</td>\n",
       "      <td>384</td>\n",
       "      <td>407</td>\n",
       "    </tr>\n",
       "    <tr>\n",
       "      <th>2</th>\n",
       "      <td>1503960366</td>\n",
       "      <td>4/15/2016 12:00:00 AM</td>\n",
       "      <td>1</td>\n",
       "      <td>412</td>\n",
       "      <td>442</td>\n",
       "    </tr>\n",
       "    <tr>\n",
       "      <th>3</th>\n",
       "      <td>1503960366</td>\n",
       "      <td>4/16/2016 12:00:00 AM</td>\n",
       "      <td>2</td>\n",
       "      <td>340</td>\n",
       "      <td>367</td>\n",
       "    </tr>\n",
       "    <tr>\n",
       "      <th>4</th>\n",
       "      <td>1503960366</td>\n",
       "      <td>4/17/2016 12:00:00 AM</td>\n",
       "      <td>1</td>\n",
       "      <td>700</td>\n",
       "      <td>712</td>\n",
       "    </tr>\n",
       "  </tbody>\n",
       "</table>\n",
       "</div>"
      ],
      "text/plain": [
       "           Id               SleepDay  TotalSleepRecords  TotalMinutesAsleep  \\\n",
       "0  1503960366  4/12/2016 12:00:00 AM                  1                 327   \n",
       "1  1503960366  4/13/2016 12:00:00 AM                  2                 384   \n",
       "2  1503960366  4/15/2016 12:00:00 AM                  1                 412   \n",
       "3  1503960366  4/16/2016 12:00:00 AM                  2                 340   \n",
       "4  1503960366  4/17/2016 12:00:00 AM                  1                 700   \n",
       "\n",
       "   TotalTimeInBed  \n",
       "0             346  \n",
       "1             407  \n",
       "2             442  \n",
       "3             367  \n",
       "4             712  "
      ]
     },
     "execution_count": 342,
     "metadata": {},
     "output_type": "execute_result"
    }
   ],
   "source": [
    "sleep_data.head()"
   ]
  },
  {
   "cell_type": "code",
   "execution_count": 343,
   "id": "f18b60ba",
   "metadata": {},
   "outputs": [],
   "source": [
    "sleep_data['SleepDay'] = pd.to_datetime(sleep_data['SleepDay'])\n",
    "sleep_data['day'] = sleep_data['SleepDay'].dt.day_name()"
   ]
  },
  {
   "cell_type": "code",
   "execution_count": 344,
   "id": "b8c0d679",
   "metadata": {},
   "outputs": [],
   "source": [
    "sleep_data['ActivityDate'] = sleep_data['SleepDay']"
   ]
  },
  {
   "cell_type": "code",
   "execution_count": 345,
   "id": "bc557afb",
   "metadata": {
    "scrolled": true
   },
   "outputs": [
    {
     "data": {
      "text/html": [
       "<div>\n",
       "<style scoped>\n",
       "    .dataframe tbody tr th:only-of-type {\n",
       "        vertical-align: middle;\n",
       "    }\n",
       "\n",
       "    .dataframe tbody tr th {\n",
       "        vertical-align: top;\n",
       "    }\n",
       "\n",
       "    .dataframe thead th {\n",
       "        text-align: right;\n",
       "    }\n",
       "</style>\n",
       "<table border=\"1\" class=\"dataframe\">\n",
       "  <thead>\n",
       "    <tr style=\"text-align: right;\">\n",
       "      <th></th>\n",
       "      <th>Id</th>\n",
       "      <th>SleepDay</th>\n",
       "      <th>TotalSleepRecords</th>\n",
       "      <th>TotalMinutesAsleep</th>\n",
       "      <th>TotalTimeInBed</th>\n",
       "      <th>day</th>\n",
       "      <th>ActivityDate</th>\n",
       "    </tr>\n",
       "  </thead>\n",
       "  <tbody>\n",
       "    <tr>\n",
       "      <th>0</th>\n",
       "      <td>1503960366</td>\n",
       "      <td>2016-04-12</td>\n",
       "      <td>1</td>\n",
       "      <td>327</td>\n",
       "      <td>346</td>\n",
       "      <td>Tuesday</td>\n",
       "      <td>2016-04-12</td>\n",
       "    </tr>\n",
       "    <tr>\n",
       "      <th>1</th>\n",
       "      <td>1503960366</td>\n",
       "      <td>2016-04-13</td>\n",
       "      <td>2</td>\n",
       "      <td>384</td>\n",
       "      <td>407</td>\n",
       "      <td>Wednesday</td>\n",
       "      <td>2016-04-13</td>\n",
       "    </tr>\n",
       "    <tr>\n",
       "      <th>2</th>\n",
       "      <td>1503960366</td>\n",
       "      <td>2016-04-15</td>\n",
       "      <td>1</td>\n",
       "      <td>412</td>\n",
       "      <td>442</td>\n",
       "      <td>Friday</td>\n",
       "      <td>2016-04-15</td>\n",
       "    </tr>\n",
       "    <tr>\n",
       "      <th>3</th>\n",
       "      <td>1503960366</td>\n",
       "      <td>2016-04-16</td>\n",
       "      <td>2</td>\n",
       "      <td>340</td>\n",
       "      <td>367</td>\n",
       "      <td>Saturday</td>\n",
       "      <td>2016-04-16</td>\n",
       "    </tr>\n",
       "    <tr>\n",
       "      <th>4</th>\n",
       "      <td>1503960366</td>\n",
       "      <td>2016-04-17</td>\n",
       "      <td>1</td>\n",
       "      <td>700</td>\n",
       "      <td>712</td>\n",
       "      <td>Sunday</td>\n",
       "      <td>2016-04-17</td>\n",
       "    </tr>\n",
       "  </tbody>\n",
       "</table>\n",
       "</div>"
      ],
      "text/plain": [
       "           Id   SleepDay  TotalSleepRecords  TotalMinutesAsleep  \\\n",
       "0  1503960366 2016-04-12                  1                 327   \n",
       "1  1503960366 2016-04-13                  2                 384   \n",
       "2  1503960366 2016-04-15                  1                 412   \n",
       "3  1503960366 2016-04-16                  2                 340   \n",
       "4  1503960366 2016-04-17                  1                 700   \n",
       "\n",
       "   TotalTimeInBed        day ActivityDate  \n",
       "0             346    Tuesday   2016-04-12  \n",
       "1             407  Wednesday   2016-04-13  \n",
       "2             442     Friday   2016-04-15  \n",
       "3             367   Saturday   2016-04-16  \n",
       "4             712     Sunday   2016-04-17  "
      ]
     },
     "execution_count": 345,
     "metadata": {},
     "output_type": "execute_result"
    }
   ],
   "source": [
    "sleep_data.head()"
   ]
  },
  {
   "cell_type": "code",
   "execution_count": 346,
   "id": "daa2fd11",
   "metadata": {},
   "outputs": [],
   "source": [
    "sleep_data['Hours_asleep'] = sleep_data['TotalMinutesAsleep']/60"
   ]
  },
  {
   "cell_type": "code",
   "execution_count": 397,
   "id": "f74e56aa",
   "metadata": {
    "scrolled": false
   },
   "outputs": [
    {
     "data": {
      "image/png": "[encoded data removed]",
      "text/plain": [
       "<Figure size 900x300 with 1 Axes>"
      ]
     },
     "metadata": {},
     "output_type": "display_data"
    }
   ],
   "source": [
    "plt.figure(figsize=(9, 3))\n",
    "plt.bar(sleep_data['day'].sort_values(), sleep_data['Hours_asleep'].sort_values(ascending = False), color = 'orange')\n",
    "plt.title(\"Sleep Vs Days\")\n",
    "plt.ylabel('Hours')\n",
    "plt.show()"
   ]
  },
  {
   "cell_type": "markdown",
   "id": "c7162ba5",
   "metadata": {},
   "source": [
    "As we can see people sleep less on wednesday compared to other days and highest on friday as it is last working day.If sleep is less than 7 hour per day we can send a notification to his device saying that he has less sleep and recommend him to sleep for this many minutes."
   ]
  },
  {
   "cell_type": "code",
   "execution_count": 348,
   "id": "9bd313ee",
   "metadata": {
    "scrolled": true
   },
   "outputs": [
    {
     "name": "stdout",
     "output_type": "stream",
     "text": [
      "<class 'pandas.core.frame.DataFrame'>\n",
      "RangeIndex: 413 entries, 0 to 412\n",
      "Data columns (total 8 columns):\n",
      " #   Column              Non-Null Count  Dtype         \n",
      "---  ------              --------------  -----         \n",
      " 0   Id                  413 non-null    int64         \n",
      " 1   SleepDay            413 non-null    datetime64[ns]\n",
      " 2   TotalSleepRecords   413 non-null    int64         \n",
      " 3   TotalMinutesAsleep  413 non-null    int64         \n",
      " 4   TotalTimeInBed      413 non-null    int64         \n",
      " 5   day                 413 non-null    object        \n",
      " 6   ActivityDate        413 non-null    datetime64[ns]\n",
      " 7   Hours_asleep        413 non-null    float64       \n",
      "dtypes: datetime64[ns](2), float64(1), int64(4), object(1)\n",
      "memory usage: 25.9+ KB\n"
     ]
    }
   ],
   "source": [
    "sleep_data.info()"
   ]
  },
  {
   "cell_type": "code",
   "execution_count": 353,
   "id": "a5f048c8",
   "metadata": {},
   "outputs": [],
   "source": [
    "sleep_data['Id'] = sleep_data['Id'].astype(str)\n",
    "\n",
    "#Merging the daily activity data and sleep data\n",
    "sleep_activity = pd.merge(total_daily_activity, sleep_data, on=['Id', 'ActivityDate'])"
   ]
  },
  {
   "cell_type": "code",
   "execution_count": 354,
   "id": "357e0a22",
   "metadata": {},
   "outputs": [
    {
     "data": {
      "text/html": [
       "<div>\n",
       "<style scoped>\n",
       "    .dataframe tbody tr th:only-of-type {\n",
       "        vertical-align: middle;\n",
       "    }\n",
       "\n",
       "    .dataframe tbody tr th {\n",
       "        vertical-align: top;\n",
       "    }\n",
       "\n",
       "    .dataframe thead th {\n",
       "        text-align: right;\n",
       "    }\n",
       "</style>\n",
       "<table border=\"1\" class=\"dataframe\">\n",
       "  <thead>\n",
       "    <tr style=\"text-align: right;\">\n",
       "      <th></th>\n",
       "      <th>Id</th>\n",
       "      <th>ActivityDate</th>\n",
       "      <th>day_x</th>\n",
       "      <th>TotalSteps</th>\n",
       "      <th>TotalDistance</th>\n",
       "      <th>SedentaryMinutes</th>\n",
       "      <th>Calories</th>\n",
       "      <th>ActiveMinutes</th>\n",
       "      <th>SleepDay</th>\n",
       "      <th>TotalSleepRecords</th>\n",
       "      <th>TotalMinutesAsleep</th>\n",
       "      <th>TotalTimeInBed</th>\n",
       "      <th>day_y</th>\n",
       "      <th>Hours_asleep</th>\n",
       "    </tr>\n",
       "  </thead>\n",
       "  <tbody>\n",
       "    <tr>\n",
       "      <th>0</th>\n",
       "      <td>1503960366</td>\n",
       "      <td>2016-04-12</td>\n",
       "      <td>Tuesday</td>\n",
       "      <td>224</td>\n",
       "      <td>0.14</td>\n",
       "      <td>32</td>\n",
       "      <td>50</td>\n",
       "      <td>9</td>\n",
       "      <td>2016-04-12</td>\n",
       "      <td>1</td>\n",
       "      <td>327</td>\n",
       "      <td>346</td>\n",
       "      <td>Tuesday</td>\n",
       "      <td>5.450000</td>\n",
       "    </tr>\n",
       "    <tr>\n",
       "      <th>1</th>\n",
       "      <td>1503960366</td>\n",
       "      <td>2016-04-12</td>\n",
       "      <td>Tuesday</td>\n",
       "      <td>13162</td>\n",
       "      <td>8.50</td>\n",
       "      <td>728</td>\n",
       "      <td>1985</td>\n",
       "      <td>366</td>\n",
       "      <td>2016-04-12</td>\n",
       "      <td>1</td>\n",
       "      <td>327</td>\n",
       "      <td>346</td>\n",
       "      <td>Tuesday</td>\n",
       "      <td>5.450000</td>\n",
       "    </tr>\n",
       "    <tr>\n",
       "      <th>2</th>\n",
       "      <td>1927972279</td>\n",
       "      <td>2016-04-12</td>\n",
       "      <td>Tuesday</td>\n",
       "      <td>24</td>\n",
       "      <td>0.02</td>\n",
       "      <td>161</td>\n",
       "      <td>942</td>\n",
       "      <td>3</td>\n",
       "      <td>2016-04-12</td>\n",
       "      <td>3</td>\n",
       "      <td>750</td>\n",
       "      <td>775</td>\n",
       "      <td>Tuesday</td>\n",
       "      <td>12.500000</td>\n",
       "    </tr>\n",
       "    <tr>\n",
       "      <th>3</th>\n",
       "      <td>1927972279</td>\n",
       "      <td>2016-04-12</td>\n",
       "      <td>Tuesday</td>\n",
       "      <td>678</td>\n",
       "      <td>0.47</td>\n",
       "      <td>734</td>\n",
       "      <td>2220</td>\n",
       "      <td>55</td>\n",
       "      <td>2016-04-12</td>\n",
       "      <td>3</td>\n",
       "      <td>750</td>\n",
       "      <td>775</td>\n",
       "      <td>Tuesday</td>\n",
       "      <td>12.500000</td>\n",
       "    </tr>\n",
       "    <tr>\n",
       "      <th>4</th>\n",
       "      <td>2026352035</td>\n",
       "      <td>2016-04-12</td>\n",
       "      <td>Tuesday</td>\n",
       "      <td>1019</td>\n",
       "      <td>0.63</td>\n",
       "      <td>223</td>\n",
       "      <td>600</td>\n",
       "      <td>64</td>\n",
       "      <td>2016-04-12</td>\n",
       "      <td>1</td>\n",
       "      <td>503</td>\n",
       "      <td>546</td>\n",
       "      <td>Tuesday</td>\n",
       "      <td>8.383333</td>\n",
       "    </tr>\n",
       "  </tbody>\n",
       "</table>\n",
       "</div>"
      ],
      "text/plain": [
       "           Id ActivityDate    day_x  TotalSteps  TotalDistance  \\\n",
       "0  1503960366   2016-04-12  Tuesday         224           0.14   \n",
       "1  1503960366   2016-04-12  Tuesday       13162           8.50   \n",
       "2  1927972279   2016-04-12  Tuesday          24           0.02   \n",
       "3  1927972279   2016-04-12  Tuesday         678           0.47   \n",
       "4  2026352035   2016-04-12  Tuesday        1019           0.63   \n",
       "\n",
       "   SedentaryMinutes  Calories  ActiveMinutes   SleepDay  TotalSleepRecords  \\\n",
       "0                32        50              9 2016-04-12                  1   \n",
       "1               728      1985            366 2016-04-12                  1   \n",
       "2               161       942              3 2016-04-12                  3   \n",
       "3               734      2220             55 2016-04-12                  3   \n",
       "4               223       600             64 2016-04-12                  1   \n",
       "\n",
       "   TotalMinutesAsleep  TotalTimeInBed    day_y  Hours_asleep  \n",
       "0                 327             346  Tuesday      5.450000  \n",
       "1                 327             346  Tuesday      5.450000  \n",
       "2                 750             775  Tuesday     12.500000  \n",
       "3                 750             775  Tuesday     12.500000  \n",
       "4                 503             546  Tuesday      8.383333  "
      ]
     },
     "execution_count": 354,
     "metadata": {},
     "output_type": "execute_result"
    }
   ],
   "source": [
    "sleep_activity.head()"
   ]
  },
  {
   "cell_type": "code",
   "execution_count": 355,
   "id": "3d393ecd",
   "metadata": {},
   "outputs": [],
   "source": [
    "sleep_activity.drop(['day_x', 'TotalSleepRecords', 'SleepDay'],axis = 1, inplace = True)\n",
    "sleep_activity['Day'] = sleep_activity['day_y']"
   ]
  },
  {
   "cell_type": "code",
   "execution_count": 356,
   "id": "473dd7cc",
   "metadata": {},
   "outputs": [
    {
     "data": {
      "text/html": [
       "<div>\n",
       "<style scoped>\n",
       "    .dataframe tbody tr th:only-of-type {\n",
       "        vertical-align: middle;\n",
       "    }\n",
       "\n",
       "    .dataframe tbody tr th {\n",
       "        vertical-align: top;\n",
       "    }\n",
       "\n",
       "    .dataframe thead th {\n",
       "        text-align: right;\n",
       "    }\n",
       "</style>\n",
       "<table border=\"1\" class=\"dataframe\">\n",
       "  <thead>\n",
       "    <tr style=\"text-align: right;\">\n",
       "      <th></th>\n",
       "      <th>Id</th>\n",
       "      <th>ActivityDate</th>\n",
       "      <th>TotalSteps</th>\n",
       "      <th>TotalDistance</th>\n",
       "      <th>SedentaryMinutes</th>\n",
       "      <th>Calories</th>\n",
       "      <th>ActiveMinutes</th>\n",
       "      <th>TotalMinutesAsleep</th>\n",
       "      <th>TotalTimeInBed</th>\n",
       "      <th>day_y</th>\n",
       "      <th>Hours_asleep</th>\n",
       "      <th>Day</th>\n",
       "    </tr>\n",
       "  </thead>\n",
       "  <tbody>\n",
       "    <tr>\n",
       "      <th>0</th>\n",
       "      <td>1503960366</td>\n",
       "      <td>2016-04-12</td>\n",
       "      <td>224</td>\n",
       "      <td>0.14</td>\n",
       "      <td>32</td>\n",
       "      <td>50</td>\n",
       "      <td>9</td>\n",
       "      <td>327</td>\n",
       "      <td>346</td>\n",
       "      <td>Tuesday</td>\n",
       "      <td>5.450000</td>\n",
       "      <td>Tuesday</td>\n",
       "    </tr>\n",
       "    <tr>\n",
       "      <th>1</th>\n",
       "      <td>1503960366</td>\n",
       "      <td>2016-04-12</td>\n",
       "      <td>13162</td>\n",
       "      <td>8.50</td>\n",
       "      <td>728</td>\n",
       "      <td>1985</td>\n",
       "      <td>366</td>\n",
       "      <td>327</td>\n",
       "      <td>346</td>\n",
       "      <td>Tuesday</td>\n",
       "      <td>5.450000</td>\n",
       "      <td>Tuesday</td>\n",
       "    </tr>\n",
       "    <tr>\n",
       "      <th>2</th>\n",
       "      <td>1927972279</td>\n",
       "      <td>2016-04-12</td>\n",
       "      <td>24</td>\n",
       "      <td>0.02</td>\n",
       "      <td>161</td>\n",
       "      <td>942</td>\n",
       "      <td>3</td>\n",
       "      <td>750</td>\n",
       "      <td>775</td>\n",
       "      <td>Tuesday</td>\n",
       "      <td>12.500000</td>\n",
       "      <td>Tuesday</td>\n",
       "    </tr>\n",
       "    <tr>\n",
       "      <th>3</th>\n",
       "      <td>1927972279</td>\n",
       "      <td>2016-04-12</td>\n",
       "      <td>678</td>\n",
       "      <td>0.47</td>\n",
       "      <td>734</td>\n",
       "      <td>2220</td>\n",
       "      <td>55</td>\n",
       "      <td>750</td>\n",
       "      <td>775</td>\n",
       "      <td>Tuesday</td>\n",
       "      <td>12.500000</td>\n",
       "      <td>Tuesday</td>\n",
       "    </tr>\n",
       "    <tr>\n",
       "      <th>4</th>\n",
       "      <td>2026352035</td>\n",
       "      <td>2016-04-12</td>\n",
       "      <td>1019</td>\n",
       "      <td>0.63</td>\n",
       "      <td>223</td>\n",
       "      <td>600</td>\n",
       "      <td>64</td>\n",
       "      <td>503</td>\n",
       "      <td>546</td>\n",
       "      <td>Tuesday</td>\n",
       "      <td>8.383333</td>\n",
       "      <td>Tuesday</td>\n",
       "    </tr>\n",
       "  </tbody>\n",
       "</table>\n",
       "</div>"
      ],
      "text/plain": [
       "           Id ActivityDate  TotalSteps  TotalDistance  SedentaryMinutes  \\\n",
       "0  1503960366   2016-04-12         224           0.14                32   \n",
       "1  1503960366   2016-04-12       13162           8.50               728   \n",
       "2  1927972279   2016-04-12          24           0.02               161   \n",
       "3  1927972279   2016-04-12         678           0.47               734   \n",
       "4  2026352035   2016-04-12        1019           0.63               223   \n",
       "\n",
       "   Calories  ActiveMinutes  TotalMinutesAsleep  TotalTimeInBed    day_y  \\\n",
       "0        50              9                 327             346  Tuesday   \n",
       "1      1985            366                 327             346  Tuesday   \n",
       "2       942              3                 750             775  Tuesday   \n",
       "3      2220             55                 750             775  Tuesday   \n",
       "4       600             64                 503             546  Tuesday   \n",
       "\n",
       "   Hours_asleep      Day  \n",
       "0      5.450000  Tuesday  \n",
       "1      5.450000  Tuesday  \n",
       "2     12.500000  Tuesday  \n",
       "3     12.500000  Tuesday  \n",
       "4      8.383333  Tuesday  "
      ]
     },
     "execution_count": 356,
     "metadata": {},
     "output_type": "execute_result"
    }
   ],
   "source": [
    "sleep_activity.head()"
   ]
  },
  {
   "cell_type": "code",
   "execution_count": 357,
   "id": "777857d1",
   "metadata": {
    "scrolled": true
   },
   "outputs": [],
   "source": [
    "#Finding how much difference of time between time in bed and minutes asleep\n",
    "\n",
    "sleep_activity['bed_sleep_diff'] = sleep_activity['TotalTimeInBed'] - sleep_activity['TotalMinutesAsleep']"
   ]
  },
  {
   "cell_type": "code",
   "execution_count": 408,
   "id": "93008d95",
   "metadata": {},
   "outputs": [
    {
     "data": {
      "image/png": "[encoded data removed]",
      "text/plain": [
       "<Figure size 900x300 with 1 Axes>"
      ]
     },
     "metadata": {},
     "output_type": "display_data"
    }
   ],
   "source": [
    "plt.figure(figsize=(9, 3))\n",
    "plt.bar(sleep_activity['day_y'], sleep_activity['bed_sleep_diff'].sort_values(ascending = False), color = 'orange')\n",
    "plt.title(\"bed_sleep_difference Vs Days\")\n",
    "plt.ylabel('minutes')\n",
    "plt.show()"
   ]
  },
  {
   "cell_type": "code",
   "execution_count": 399,
   "id": "d4af3926",
   "metadata": {
    "scrolled": false
   },
   "outputs": [
    {
     "data": {
      "image/png": "[encoded data removed]",
      "text/plain": [
       "<Figure size 700x300 with 1 Axes>"
      ]
     },
     "metadata": {},
     "output_type": "display_data"
    }
   ],
   "source": [
    "plt.figure(figsize=(7, 3))\n",
    "plt.hist(merged_sleep_activity['bed_sleep_diff'], bins = [0, 60, 120, 180], color = 'orange')\n",
    "plt.title(\"Histogram of Time in bed and sleep time difference\")\n",
    "plt.xlabel(\"minutes in bed - minutes in sleep\")\n",
    "plt.show()"
   ]
  },
  {
   "cell_type": "markdown",
   "id": "c93364a3",
   "metadata": {},
   "source": [
    "Maximum people spend less than 60 minutes on bed without sleeping"
   ]
  },
  {
   "cell_type": "code",
   "execution_count": 402,
   "id": "ea9c70be",
   "metadata": {
    "scrolled": true
   },
   "outputs": [
    {
     "data": {
      "image/png": "[encoded data removed]",
      "text/plain": [
       "<Figure size 700x300 with 1 Axes>"
      ]
     },
     "metadata": {},
     "output_type": "display_data"
    }
   ],
   "source": [
    "plt.figure(figsize=(7, 3))\n",
    "plt.scatter(merged_sleep_activity['SedentaryMinutes'], merged_sleep_activity['TotalMinutesAsleep'], color = 'blue')\n",
    "plt.title(\"Sedentary minutes vs sleep\")\n",
    "plt.xlabel(\"Sedentary minutes\")\n",
    "plt.ylabel(\"Total minutes asleep\")\n",
    "plt.show()"
   ]
  },
  {
   "cell_type": "markdown",
   "id": "e4e4ee5c",
   "metadata": {},
   "source": [
    "Sedentary minutes and minutes asleep has negative correletion that indicates as sedentary minutes increases total sleep decreases and the correlation coefficient is -0.5293247521458632"
   ]
  },
  {
   "cell_type": "markdown",
   "id": "4217d132",
   "metadata": {},
   "source": [
    "# Weights"
   ]
  },
  {
   "cell_type": "code",
   "execution_count": 363,
   "id": "71226633",
   "metadata": {},
   "outputs": [],
   "source": [
    "weights_0 = pd.read_csv(r\"C:\\Users\\yasar\\OneDrive\\Desktop\\Projects\\case study2\\data\\mturkfitbit_export_3.12.16-4.11.16\\Fitabase Data 3.12.16-4.11.16\\weightLogInfo_merged.csv\")\n",
    "weights_1 = pd.read_csv(r\"C:\\Users\\yasar\\OneDrive\\Desktop\\Projects\\case study2\\data\\mturkfitbit_export_4.12.16-5.12.16\\Fitabase Data 4.12.16-5.12.16\\weightLogInfo_merged.csv\")"
   ]
  },
  {
   "cell_type": "code",
   "execution_count": 364,
   "id": "4e83d0a0",
   "metadata": {},
   "outputs": [],
   "source": [
    "merged_weights = pd.concat([weights_0, weights_1], axis = 0)"
   ]
  },
  {
   "cell_type": "code",
   "execution_count": 365,
   "id": "d854d27d",
   "metadata": {},
   "outputs": [
    {
     "data": {
      "text/plain": [
       "(100, 8)"
      ]
     },
     "execution_count": 365,
     "metadata": {},
     "output_type": "execute_result"
    }
   ],
   "source": [
    "merged_weights.shape"
   ]
  },
  {
   "cell_type": "code",
   "execution_count": 366,
   "id": "cf6efc3d",
   "metadata": {},
   "outputs": [
    {
     "data": {
      "text/html": [
       "<div>\n",
       "<style scoped>\n",
       "    .dataframe tbody tr th:only-of-type {\n",
       "        vertical-align: middle;\n",
       "    }\n",
       "\n",
       "    .dataframe tbody tr th {\n",
       "        vertical-align: top;\n",
       "    }\n",
       "\n",
       "    .dataframe thead th {\n",
       "        text-align: right;\n",
       "    }\n",
       "</style>\n",
       "<table border=\"1\" class=\"dataframe\">\n",
       "  <thead>\n",
       "    <tr style=\"text-align: right;\">\n",
       "      <th></th>\n",
       "      <th>Id</th>\n",
       "      <th>Date</th>\n",
       "      <th>WeightKg</th>\n",
       "      <th>WeightPounds</th>\n",
       "      <th>Fat</th>\n",
       "      <th>BMI</th>\n",
       "      <th>IsManualReport</th>\n",
       "      <th>LogId</th>\n",
       "    </tr>\n",
       "  </thead>\n",
       "  <tbody>\n",
       "    <tr>\n",
       "      <th>0</th>\n",
       "      <td>1503960366</td>\n",
       "      <td>4/5/2016 11:59:59 PM</td>\n",
       "      <td>53.299999</td>\n",
       "      <td>117.506384</td>\n",
       "      <td>22.0</td>\n",
       "      <td>22.969999</td>\n",
       "      <td>True</td>\n",
       "      <td>1459900799000</td>\n",
       "    </tr>\n",
       "    <tr>\n",
       "      <th>1</th>\n",
       "      <td>1927972279</td>\n",
       "      <td>4/10/2016 6:33:26 PM</td>\n",
       "      <td>129.600006</td>\n",
       "      <td>285.719105</td>\n",
       "      <td>NaN</td>\n",
       "      <td>46.169998</td>\n",
       "      <td>False</td>\n",
       "      <td>1460313206000</td>\n",
       "    </tr>\n",
       "    <tr>\n",
       "      <th>2</th>\n",
       "      <td>2347167796</td>\n",
       "      <td>4/3/2016 11:59:59 PM</td>\n",
       "      <td>63.400002</td>\n",
       "      <td>139.773078</td>\n",
       "      <td>10.0</td>\n",
       "      <td>24.770000</td>\n",
       "      <td>True</td>\n",
       "      <td>1459727999000</td>\n",
       "    </tr>\n",
       "    <tr>\n",
       "      <th>3</th>\n",
       "      <td>2873212765</td>\n",
       "      <td>4/6/2016 11:59:59 PM</td>\n",
       "      <td>56.700001</td>\n",
       "      <td>125.002104</td>\n",
       "      <td>NaN</td>\n",
       "      <td>21.450001</td>\n",
       "      <td>True</td>\n",
       "      <td>1459987199000</td>\n",
       "    </tr>\n",
       "    <tr>\n",
       "      <th>4</th>\n",
       "      <td>2873212765</td>\n",
       "      <td>4/7/2016 11:59:59 PM</td>\n",
       "      <td>57.200001</td>\n",
       "      <td>126.104416</td>\n",
       "      <td>NaN</td>\n",
       "      <td>21.650000</td>\n",
       "      <td>True</td>\n",
       "      <td>1460073599000</td>\n",
       "    </tr>\n",
       "  </tbody>\n",
       "</table>\n",
       "</div>"
      ],
      "text/plain": [
       "           Id                  Date    WeightKg  WeightPounds   Fat  \\\n",
       "0  1503960366  4/5/2016 11:59:59 PM   53.299999    117.506384  22.0   \n",
       "1  1927972279  4/10/2016 6:33:26 PM  129.600006    285.719105   NaN   \n",
       "2  2347167796  4/3/2016 11:59:59 PM   63.400002    139.773078  10.0   \n",
       "3  2873212765  4/6/2016 11:59:59 PM   56.700001    125.002104   NaN   \n",
       "4  2873212765  4/7/2016 11:59:59 PM   57.200001    126.104416   NaN   \n",
       "\n",
       "         BMI  IsManualReport          LogId  \n",
       "0  22.969999            True  1459900799000  \n",
       "1  46.169998           False  1460313206000  \n",
       "2  24.770000            True  1459727999000  \n",
       "3  21.450001            True  1459987199000  \n",
       "4  21.650000            True  1460073599000  "
      ]
     },
     "execution_count": 366,
     "metadata": {},
     "output_type": "execute_result"
    }
   ],
   "source": [
    "merged_weights.head()"
   ]
  },
  {
   "cell_type": "code",
   "execution_count": 367,
   "id": "ae75840a",
   "metadata": {
    "scrolled": false
   },
   "outputs": [
    {
     "name": "stdout",
     "output_type": "stream",
     "text": [
      "<class 'pandas.core.frame.DataFrame'>\n",
      "Int64Index: 100 entries, 0 to 66\n",
      "Data columns (total 8 columns):\n",
      " #   Column          Non-Null Count  Dtype  \n",
      "---  ------          --------------  -----  \n",
      " 0   Id              100 non-null    int64  \n",
      " 1   Date            100 non-null    object \n",
      " 2   WeightKg        100 non-null    float64\n",
      " 3   WeightPounds    100 non-null    float64\n",
      " 4   Fat             4 non-null      float64\n",
      " 5   BMI             100 non-null    float64\n",
      " 6   IsManualReport  100 non-null    bool   \n",
      " 7   LogId           100 non-null    int64  \n",
      "dtypes: bool(1), float64(4), int64(2), object(1)\n",
      "memory usage: 6.3+ KB\n"
     ]
    }
   ],
   "source": [
    "merged_weights.info()"
   ]
  },
  {
   "cell_type": "code",
   "execution_count": 373,
   "id": "3721e068",
   "metadata": {},
   "outputs": [],
   "source": [
    "merged_weights['Id'] = merged_weights['Id'].astype(str) \n",
    "merged_weights['ActivityDate'] = pd.to_datetime(merged_weights['Date']).dt.date\n",
    "merged_weights['ActivityDate'] = pd.to_datetime(merged_weights['ActivityDate'])"
   ]
  },
  {
   "cell_type": "code",
   "execution_count": 403,
   "id": "0984ca12",
   "metadata": {
    "scrolled": false
   },
   "outputs": [
    {
     "data": {
      "image/png": "[encoded data removed]",
      "text/plain": [
       "<Figure size 700x300 with 1 Axes>"
      ]
     },
     "metadata": {},
     "output_type": "display_data"
    }
   ],
   "source": [
    "plt.figure(figsize=(7, 3))\n",
    "plt.hist(merged_weights['BMI'], bins = [15, merged_weights['BMI'].mean(), 35, merged_weights['BMI'].max()],\n",
    "         rwidth = 0.9, stacked = True, color = 'blue')\n",
    "plt.title(\"Frequency of different range of BMI\")\n",
    "plt.xlabel(\"BMI\")\n",
    "plt.show()"
   ]
  },
  {
   "cell_type": "markdown",
   "id": "cdbc1fc9",
   "metadata": {},
   "source": [
    "If the BMI is above 25 it indicates that the person is overweight."
   ]
  },
  {
   "cell_type": "markdown",
   "id": "282bec51",
   "metadata": {},
   "source": [
    "# Intensities"
   ]
  },
  {
   "cell_type": "code",
   "execution_count": 387,
   "id": "a27f344e",
   "metadata": {},
   "outputs": [],
   "source": [
    "intensity_0 = pd.read_csv(r\"C:\\Users\\yasar\\OneDrive\\Desktop\\Projects\\case study2\\data\\mturkfitbit_export_3.12.16-4.11.16\\Fitabase Data 3.12.16-4.11.16\\hourlyIntensities_merged.csv\")\n",
    "intensity_1 = pd.read_csv(r\"C:\\Users\\yasar\\OneDrive\\Desktop\\Projects\\case study2\\data\\mturkfitbit_export_4.12.16-5.12.16\\Fitabase Data 4.12.16-5.12.16\\hourlyIntensities_merged.csv\")"
   ]
  },
  {
   "cell_type": "code",
   "execution_count": 388,
   "id": "b749a608",
   "metadata": {},
   "outputs": [],
   "source": [
    "intensity = pd.concat([intensity_0, intensity_1], axis = 0)\n",
    "intensity['Id'] = intensity['Id'].astype(str)\n",
    "intensity['ActivityHour'] = pd.to_datetime(intensity['ActivityHour'])\n",
    "intensity['time'] = intensity['ActivityHour'].dt.time"
   ]
  },
  {
   "cell_type": "code",
   "execution_count": 389,
   "id": "ae393a51",
   "metadata": {},
   "outputs": [
    {
     "data": {
      "text/html": [
       "<div>\n",
       "<style scoped>\n",
       "    .dataframe tbody tr th:only-of-type {\n",
       "        vertical-align: middle;\n",
       "    }\n",
       "\n",
       "    .dataframe tbody tr th {\n",
       "        vertical-align: top;\n",
       "    }\n",
       "\n",
       "    .dataframe thead th {\n",
       "        text-align: right;\n",
       "    }\n",
       "</style>\n",
       "<table border=\"1\" class=\"dataframe\">\n",
       "  <thead>\n",
       "    <tr style=\"text-align: right;\">\n",
       "      <th></th>\n",
       "      <th>Id</th>\n",
       "      <th>ActivityHour</th>\n",
       "      <th>TotalIntensity</th>\n",
       "      <th>AverageIntensity</th>\n",
       "      <th>time</th>\n",
       "    </tr>\n",
       "  </thead>\n",
       "  <tbody>\n",
       "    <tr>\n",
       "      <th>0</th>\n",
       "      <td>1503960366</td>\n",
       "      <td>2016-03-12 00:00:00</td>\n",
       "      <td>0</td>\n",
       "      <td>0.0</td>\n",
       "      <td>00:00:00</td>\n",
       "    </tr>\n",
       "    <tr>\n",
       "      <th>1</th>\n",
       "      <td>1503960366</td>\n",
       "      <td>2016-03-12 01:00:00</td>\n",
       "      <td>0</td>\n",
       "      <td>0.0</td>\n",
       "      <td>01:00:00</td>\n",
       "    </tr>\n",
       "    <tr>\n",
       "      <th>2</th>\n",
       "      <td>1503960366</td>\n",
       "      <td>2016-03-12 02:00:00</td>\n",
       "      <td>0</td>\n",
       "      <td>0.0</td>\n",
       "      <td>02:00:00</td>\n",
       "    </tr>\n",
       "    <tr>\n",
       "      <th>3</th>\n",
       "      <td>1503960366</td>\n",
       "      <td>2016-03-12 03:00:00</td>\n",
       "      <td>0</td>\n",
       "      <td>0.0</td>\n",
       "      <td>03:00:00</td>\n",
       "    </tr>\n",
       "    <tr>\n",
       "      <th>4</th>\n",
       "      <td>1503960366</td>\n",
       "      <td>2016-03-12 04:00:00</td>\n",
       "      <td>0</td>\n",
       "      <td>0.0</td>\n",
       "      <td>04:00:00</td>\n",
       "    </tr>\n",
       "  </tbody>\n",
       "</table>\n",
       "</div>"
      ],
      "text/plain": [
       "           Id        ActivityHour  TotalIntensity  AverageIntensity      time\n",
       "0  1503960366 2016-03-12 00:00:00               0               0.0  00:00:00\n",
       "1  1503960366 2016-03-12 01:00:00               0               0.0  01:00:00\n",
       "2  1503960366 2016-03-12 02:00:00               0               0.0  02:00:00\n",
       "3  1503960366 2016-03-12 03:00:00               0               0.0  03:00:00\n",
       "4  1503960366 2016-03-12 04:00:00               0               0.0  04:00:00"
      ]
     },
     "execution_count": 389,
     "metadata": {},
     "output_type": "execute_result"
    }
   ],
   "source": [
    "intensity.head()"
   ]
  },
  {
   "cell_type": "code",
   "execution_count": 390,
   "id": "5f387a86",
   "metadata": {},
   "outputs": [
    {
     "name": "stdout",
     "output_type": "stream",
     "text": [
      "<class 'pandas.core.frame.DataFrame'>\n",
      "Int64Index: 46183 entries, 0 to 22098\n",
      "Data columns (total 5 columns):\n",
      " #   Column            Non-Null Count  Dtype         \n",
      "---  ------            --------------  -----         \n",
      " 0   Id                46183 non-null  object        \n",
      " 1   ActivityHour      46183 non-null  datetime64[ns]\n",
      " 2   TotalIntensity    46183 non-null  int64         \n",
      " 3   AverageIntensity  46183 non-null  float64       \n",
      " 4   time              46183 non-null  object        \n",
      "dtypes: datetime64[ns](1), float64(1), int64(1), object(2)\n",
      "memory usage: 2.1+ MB\n"
     ]
    }
   ],
   "source": [
    "intensity.info()"
   ]
  },
  {
   "cell_type": "code",
   "execution_count": 391,
   "id": "5bab40a7",
   "metadata": {
    "scrolled": true
   },
   "outputs": [
    {
     "data": {
      "text/plain": [
       "(46183, 5)"
      ]
     },
     "execution_count": 391,
     "metadata": {},
     "output_type": "execute_result"
    }
   ],
   "source": [
    "intensity.shape"
   ]
  },
  {
   "cell_type": "code",
   "execution_count": 392,
   "id": "95796197",
   "metadata": {
    "scrolled": true
   },
   "outputs": [],
   "source": [
    "time = list(intensity['time'].unique().astype(str))\n",
    "intensities = list(intensity.groupby(['time'])['TotalIntensity'].sum())"
   ]
  },
  {
   "cell_type": "code",
   "execution_count": 405,
   "id": "4d35bf80",
   "metadata": {},
   "outputs": [
    {
     "data": {
      "image/png": "[encoded data removed]",
      "text/plain": [
       "<Figure size 1800x500 with 1 Axes>"
      ]
     },
     "metadata": {},
     "output_type": "display_data"
    }
   ],
   "source": [
    "plt.figure(figsize = (18, 5))\n",
    "plt.bar(time, intensities)\n",
    "plt.title(\"Intensities at different hours\")\n",
    "plt.xlabel('Time')\n",
    "plt.ylabel('Intensity')\n",
    "plt.tight_layout()"
   ]
  },
  {
   "cell_type": "markdown",
   "id": "98e344a3",
   "metadata": {},
   "source": [
    "Intensities increasing from 5 am to 12 am and declining till 3 pm then again increasing from 4 pm and reaching maximum\n",
    "intensity at 7 pm"
   ]
  },
  {
   "cell_type": "markdown",
   "id": "3055fc05",
   "metadata": {},
   "source": [
    "*Recommendations to Bella Beat*\n",
    "\n",
    "1. They can create an app that connects with bella beat devices that app is like a facebook and snapchat where thecompany      need to post different challenges like challenge on number of steps for different days like people have more steps on      weekends so there is no nee dof challenge their this mostly useful in week days as on monday which has least steps. If      they achieve the goals they get streaks like snapchat.\n",
    "\n",
    "2. They need to set an automatic notification based on the users data like if the people have sleep less than 7 hours          device need to show some notification or vibration and If they continue to have less than 7 hours of sleep then            recommend them to go to doctor. Most people have high difference of time in bed and time asleep on tuesdays and            wednesdays the app need to send a notification that indicates to sleep if they are wathcing mobile phone on bed which      may be one cause for high difference of bed time and sleep time.\n",
    "\n",
    "3. Sedentary minutes is negatively correlated with Minutes asleep. The app can also include challenges which can decrease \n",
    "   sedentary minutes which results in increase of sleep."
   ]
  }
 ],
 "metadata": {
  "kernelspec": {
   "display_name": "Python 3 (ipykernel)",
   "language": "python",
   "name": "python3"
  },
  "language_info": {
   "codemirror_mode": {
    "name": "ipython",
    "version": 3
   },
   "file_extension": ".py",
   "mimetype": "text/x-python",
   "name": "python",
   "nbconvert_exporter": "python",
   "pygments_lexer": "ipython3",
   "version": "3.11.3"
  }
 },
 "nbformat": 4,
 "nbformat_minor": 5
}
